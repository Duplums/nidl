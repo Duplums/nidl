{
 "cells": [
  {
   "cell_type": "markdown",
   "id": "237cff9a",
   "metadata": {},
   "source": [
    "## Fit yAware using age as auxiliary variable\n",
    "\n",
    "For efficiency, we will fit y-Aware on VBM-ROI modality using age as auxiliary variable. We will then plot the latent space and compare with y-Aware fit on FreeSurfer Destrieux-ROI modality."
   ]
  },
  {
   "cell_type": "code",
   "execution_count": null,
   "id": "7f131d7d",
   "metadata": {},
   "outputs": [],
   "source": [
    "import matplotlib.pyplot as plt\n",
    "import nibabel\n",
    "import numpy as np\n",
    "import pandas as pd\n",
    "import seaborn\n",
    "import torch\n",
    "from nilearn import datasets, plotting\n",
    "from scipy.stats import pearsonr\n",
    "from sklearn.linear_model import LinearRegression\n",
    "from sklearn.manifold import TSNE\n",
    "from sklearn.neighbors import KNeighborsRegressor\n",
    "from torch.utils.data import DataLoader\n",
    "from torchvision.transforms import Compose\n",
    "\n",
    "from nidl.datasets import OpenBHB\n",
    "from nidl.estimators.ssl import YAwareContrastiveLearning\n",
    "from nidl.transforms import MultiViewsTransform\n",
    "from nidl.volume.backbones import resnet18\n",
    "from nidl.volume.transforms.augmentation.spatial import RandomErasing\n",
    "from nidl.volume.transforms.preprocessing.spatial import CropOrPad\n"
   ]
  },
  {
   "cell_type": "code",
   "execution_count": 2,
   "id": "1381eca2",
   "metadata": {},
   "outputs": [],
   "source": [
    "root_dir = \"/home_local/bd261576/openBHB\""
   ]
  },
  {
   "cell_type": "markdown",
   "id": "5ba7fcdf",
   "metadata": {},
   "source": [
    "### Build scorer for age\n",
    "\n",
    "Since y-Aware is an embedding model and we don't know the true latent factors of the data, we use a KNN regression to test whether age is decodable from the embedding. "
   ]
  },
  {
   "cell_type": "code",
   "execution_count": 3,
   "id": "364a083f",
   "metadata": {},
   "outputs": [],
   "source": [
    "def prediction_score(z, y):\n",
    "    def _knn_fitting(x, y):\n",
    "        knn_model = KNeighborsRegressor()\n",
    "        knn_model.fit(x, y)\n",
    "        return knn_model.score(x, y), knn_model.predict(x)\n",
    "    return _knn_fitting(z, y)"
   ]
  },
  {
   "cell_type": "markdown",
   "id": "fc39e361",
   "metadata": {},
   "source": [
    "### Load VBM modality and fit the y-Aware estimator"
   ]
  },
  {
   "cell_type": "code",
   "execution_count": null,
   "id": "3def28fd",
   "metadata": {},
   "outputs": [],
   "source": [
    "ssl_transforms = MultiViewsTransform(\n",
    "    Compose(\n",
    "        [RandomErasing(num_iterations=5),\n",
    "        CropOrPad(128)]\n",
    "    ), n_views=2\n",
    ")\n",
    "test_transform = CropOrPad(128)\n",
    "\n",
    "# Load the data\n",
    "dataset_ssl_train = OpenBHB(root_dir, target=\"age\", modality=\"vbm\",\n",
    "                        split=\"train\", transforms=ssl_transforms)\n",
    "dataset_train = OpenBHB(root_dir, target=\"age\", modality=\"vbm\",\n",
    "                        split=\"train\", transforms=test_transform)\n",
    "dataset_test = OpenBHB(root_dir, target=\"age\", modality=\"vbm\",\n",
    "                       split=\"val\", transforms=test_transform)\n",
    "\n",
    "train_ssl_dataloader = DataLoader(dataset_ssl_train,\n",
    "                              batch_size=128,\n",
    "                              num_workers=10,\n",
    "                              shuffle=True)\n",
    "\n",
    "train_dataloader = DataLoader(dataset_train,\n",
    "                              batch_size=128,\n",
    "                              num_workers=10,\n",
    "                              shuffle=False)\n",
    "\n",
    "test_dataloader = DataLoader(dataset_test,\n",
    "                             batch_size=128,\n",
    "                             num_workers=10,\n",
    "                             shuffle=False)"
   ]
  },
  {
   "cell_type": "code",
   "execution_count": null,
   "id": "a2236d06",
   "metadata": {},
   "outputs": [],
   "source": [
    "sigma = 5\n",
    "yaware = YAwareContrastiveLearning(\n",
    "    encoder=resnet18(),\n",
    "    projection_head=None,\n",
    "    bandwidth=sigma**2\n",
    ")"
   ]
  }
 ],
 "metadata": {
  "kernelspec": {
   "display_name": "nidl",
   "language": "python",
   "name": "python3"
  },
  "language_info": {
   "codemirror_mode": {
    "name": "ipython",
    "version": 3
   },
   "file_extension": ".py",
   "mimetype": "text/x-python",
   "name": "python",
   "nbconvert_exporter": "python",
   "pygments_lexer": "ipython3",
   "version": "3.10.18"
  }
 },
 "nbformat": 4,
 "nbformat_minor": 5
}
