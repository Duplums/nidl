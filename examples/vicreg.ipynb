{
 "cells": [
  {
   "cell_type": "markdown",
   "metadata": {},
   "source": [
    "# VICReg \n",
    "\n",
    "VICReg (Variance-Invariance-Covariance regularization) is a self-supervised model for visual representation learning  without annotations.\n",
    "It learns by creating two augmented views of the same image using agressive data augmentations (mostly crop as in SimCLR) and then\n",
    "aligning views. However, it does not use contrastive learning to avoid representation collapse but rather 2 key principles:\n",
    "\n",
    "1. Variance maximization of each feature in the latent space (maximize expressivity)\n",
    "2. Covariance minimization across features of the same image (minimize redundancy)\n",
    "\n",
    "## Key components\n",
    "\n",
    "- **Data augmentations**: VicReg uses cropping with resizing, gaussian blur, gaussian noise and flip to create diverse views\n",
    "- **Backbone**: 3D-CNN such as ResNet are usually employed to deal with 3D volumes such as MRI\n",
    "- **Projection head**: a small MLP is used to map features from CNN to a latent space where VicReg loss is applied. The output dimension is usually much larger than the input dimension (typically 8192 vs 2048), thus it is called \"expander\".\n",
    "- **VICReg loss**:  this loss encourages similar pairs to align (invariance), variance of each embedding feature to be maximized (variance) and covariance across features to be minimized (covariance)\n",
    "\n",
    "**Reference**: [VICReg: Variance-Invariance-Covariance Regularization for Self-Supervised Learning](https://arxiv.org/abs/2105.04906)\n"
   ]
  },
  {
   "cell_type": "code",
   "execution_count": null,
   "metadata": {},
   "outputs": [],
   "source": [
    "# This example requires the following dependencies to be installed:\n",
    "# pip install -e nidl\n",
    "\n",
    "from nidl.datasets.openbhb import OpenBHB\n",
    "from nidl.models import VICReg\n",
    "from nidl.volume.transforms import SimCLRTransform\n",
    "from nidl.data.collate import TwoViewsCollateFunction\n",
    "from torch.utils.data import DataLoader\n",
    "\n",
    "\n",
    "dataset = OpenBHB(\"/neurospin/signatures/bd261576/openBHB\", modality=\"vbm\", \n",
    "                  split=\"train\")\n",
    "\n",
    "dataloader = DataLoader(dataset, collate_fn=TwoViewsCollateFunction(\n",
    "                            SimCLRTransform(input_size=(1, 128, 128, 128))),\n",
    "                        batch_size=64, shuffle=True, num_workers=10)\n",
    "\n",
    "vicreg = VICReg(\n",
    "    encoder=\"resnet18_3d\",\n",
    "    n_embedding=16, \n",
    "    max_epochs=100\n",
    ")\n",
    "\n",
    "vicreg.fit(dataloader)"
   ]
  }
 ],
 "metadata": {
  "kernelspec": {
   "display_name": "nidl",
   "language": "python",
   "name": "python3"
  },
  "language_info": {
   "name": "python",
   "version": "3.10.18"
  }
 },
 "nbformat": 4,
 "nbformat_minor": 2
}
