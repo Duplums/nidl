{
 "cells": [
  {
   "cell_type": "markdown",
   "metadata": {},
   "source": [
    "# VICReg \n",
    "\n",
    "VICReg (Variance-Invariance-Covariance regularization) is a self-supervised model for visual representation learning  without annotations.\n",
    "It learns by creating two augmented views of the same image using agressive data augmentations (mostly crop as in SimCLR) and then\n",
    "aligning views. However, it does not use contrastive learning to avoid representation collapse but rather 2 key principles:\n",
    "\n",
    "1. Variance maximization of each feature in the latent space (maximize expressivity)\n",
    "2. Covariance minimization across features of the same image (minimize redundancy)\n",
    "\n",
    "## Key components\n",
    "\n",
    "- **Data augmentations**: VicReg uses cropping with resizing, gaussian blur, gaussian noise and flip to create diverse views\n",
    "- **Backbone**: 3D-CNN such as ResNet are usually employed to deal with 3D volumes such as MRI\n",
    "- **Projection head**: a small MLP is used to map features from CNN to a latent space where VicReg loss is applied. The output dimension is usually much larger than the input dimension (typically 8192 vs 2048), thus it is called \"expander\".\n",
    "- **VICReg loss**:  this loss encourages similar pairs to align (invariance), variance of each embedding feature to be maximized (variance) and covariance across features to be minimized (covariance)\n",
    "\n",
    "**Reference**: [VICReg: Variance-Invariance-Covariance Regularization for Self-Supervised Learning](https://arxiv.org/abs/2105.04906)\n"
   ]
  },
  {
   "cell_type": "code",
   "execution_count": null,
   "metadata": {},
   "outputs": [],
   "source": [
    "# This example requires the following dependencies to be installed:\n",
    "# pip install -e NeuroCLAV\n",
    "\n",
    "from neuroclav.data.datasets.openbhb import OpenBHB\n",
    "from neuroclav.manifold.vicreg import VICReg\n",
    "from neuroclav.transforms import SimCLRTransform\n",
    "from neuroclav.transforms import VolumeTransform\n",
    "\n",
    "\n",
    "dataset = OpenBHB(\"/neurospin/hc/openBHB\", target=\"age\", modality=\"vbm\", split=\"train\")\n",
    "\n",
    "vicreg = VICReg(\n",
    "    encoder=\"resnet18_3d\",\n",
    "    n_components=16, \n",
    "    augmentation=SimCLRTransform(input_size=(1, 128, 128, 128)),\n",
    "    test_transform=VolumeTransform(input_size=(1, 128, 128, 128)),\n",
    "    max_iteration=100,\n",
    "    batch_size=128,\n",
    "    num_workers=10\n",
    ")\n",
    "\n",
    "vicreg.fit(dataset)\n"
   ]
  }
 ],
 "metadata": {
  "kernelspec": {
   "display_name": "neuroclav",
   "language": "python",
   "name": "python3"
  },
  "language_info": {
   "name": "python",
   "version": "3.12.8"
  }
 },
 "nbformat": 4,
 "nbformat_minor": 2
}
