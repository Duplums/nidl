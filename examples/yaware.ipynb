{
 "cells": [
  {
   "cell_type": "markdown",
   "metadata": {},
   "source": [
    "# y-Aware \n",
    "\n",
    "y-Aware is a self-supervised model for visual representation learning that uses contrastive learning with auxiliary variables.\n",
    "It learns by creating two augmented views of the same image using agressive data augmentations (mostly crop and cutout) and then\n",
    "aligning views with similar auxiliary variables (coming **both** from the same and distinct images) while repelling the representation\n",
    "of other images. \n",
    "\n",
    "## Key components\n",
    "\n",
    "- **Data augmentations**: y-Aware uses cropping with resizing, cutout, gaussian blur, gaussian noise and flip to create diverse views\n",
    "- **Kernel**: y-Aware uses a kernel (in the statistical sense, same as KDE) to define a similarity criterion between images based on auxiliary variables\n",
    "- **Backbone**: 3D-CNN such as ResNet are usually employed to deal with 3D volumes such as MRI\n",
    "- **Projection head**: a small MLP is used to map features from CNN to a latent space where contrastive loss is applied. Alternatively, it can be viewed as \n",
    "  a learnable similarity function between features.\n",
    "- **Contrastive loss**:  The y-Aware InfoNCE loss encourages similar pairs (as measured by the kernel) to align and dissimilar pairs to repel\n",
    "\n",
    "**Reference**: [Contrastive Learning with Continuous Proxy Meta-Data for 3D MRI Classification](https://arxiv.org/abs/2106.08808)\n"
   ]
  },
  {
   "cell_type": "code",
   "execution_count": null,
   "metadata": {},
   "outputs": [],
   "source": [
    "# This example requires the following dependencies to be installed:\n",
    "# pip install -e nidl\n",
    "\n",
    "from nidl.datasets.openbhb import OpenBHB\n",
    "from nidl.models import yAware\n",
    "from nidl.volume.transforms import yAwareTransformStrong\n",
    "from nidl.data.collate import TwoViewsCollateFunction\n",
    "from torch.utils.data import DataLoader\n",
    "\n",
    "\n",
    "dataset = OpenBHB(\"/neurospin/signatures/bd261576/openBHB\", target=\"age\", modality=\"vbm\", \n",
    "                  split=\"train\")\n",
    "\n",
    "dataloader = DataLoader(dataset, collate_fn=TwoViewsCollateFunction(\n",
    "                            yAwareTransformStrong(input_size=(1, 128, 128, 128))),\n",
    "                        batch_size=16, shuffle=True, num_workers=10)\n",
    "\n",
    "yaware = yAware(\n",
    "    encoder=\"resnet18_3d\",\n",
    "    n_embedding=16, \n",
    "    kernel_kwargs=dict(kernel=\"gaussian\", bandwidth=5.0),\n",
    "    max_epochs=100\n",
    ")\n",
    "\n",
    "yaware.fit(dataloader)\n"
   ]
  }
 ],
 "metadata": {
  "kernelspec": {
   "display_name": "nidl",
   "language": "python",
   "name": "python3"
  },
  "language_info": {
   "codemirror_mode": {
    "name": "ipython",
    "version": 3
   },
   "file_extension": ".py",
   "mimetype": "text/x-python",
   "name": "python",
   "nbconvert_exporter": "python",
   "pygments_lexer": "ipython3",
   "version": "3.10.18"
  }
 },
 "nbformat": 4,
 "nbformat_minor": 2
}
