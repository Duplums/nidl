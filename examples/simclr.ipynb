{
 "cells": [
  {
   "cell_type": "markdown",
   "metadata": {},
   "source": [
    "# SimCLR for 3D medical imaging\n",
    "\n",
    "SimCLR is a self-supervised framework for visual representation learning using contrastive methods. It learns by creating two augmented views of the same image then maximizing agreement between these augmented views while separating them from other images. Key findings include the importance of strong compositions of data augmentations, a nonlinear projection head that boosts representation quality, and the advantages of large batch sizes. Combined, these elements allow SimCLR to approach or match supervised performance on ImageNet and achieve strong transfer and semi-supervised learning results.\n",
    "\n",
    "## Key Components\n",
    "\n",
    "- **Data Augmentations**: here, SimCLR uses random cropping, resizing and Gaussian blur to create diverse views of the same image.\n",
    "- **Backbone**: Convolutional neural networks, such as 3D-ResNet, are employed to encode augmented images into feature representations.\n",
    "- **Projection Head**: A multilayer perceptron (MLP) maps features into a space where contrastive loss is applied, enhancing representation quality.\n",
    "- **Contrastive Loss**: The InfoNCE loss encourages similar pairs to align and dissimilar pairs to diverge.\n",
    "\n",
    "**Reference**: [A Simple Framework for Contrastive Learning of Visual Representations](https://arxiv.org/abs/2002.05709)"
   ]
  },
  {
   "cell_type": "code",
   "execution_count": null,
   "metadata": {},
   "outputs": [],
   "source": [
    "# This example requires the following dependencies to be installed:\n",
    "# pip install -e nidl\n",
    "\n",
    "from nidl.datasets.openbhb import OpenBHB\n",
    "from nidl.models import SimCLR\n",
    "from nidl.volume.transforms import SimCLRTransform\n",
    "from nidl.data.collate import TwoViewsCollateFunction\n",
    "from torch.utils.data import DataLoader\n",
    "\n",
    "\n",
    "dataset = OpenBHB(\"/neurospin/signatures/bd261576/openBHB\", modality=\"vbm\", \n",
    "                  split=\"train\")\n",
    "\n",
    "dataloader = DataLoader(dataset, collate_fn=TwoViewsCollateFunction(\n",
    "                            SimCLRTransform(input_size=(1, 128, 128, 128))),\n",
    "                        batch_size=64, shuffle=True, num_workers=10)\n",
    "\n",
    "simclr = SimCLR(\n",
    "    encoder=\"resnet18_3d\",\n",
    "    n_embedding=16, \n",
    "    max_epochs=100\n",
    ")\n",
    "\n",
    "simclr.fit(dataloader)\n"
   ]
  }
 ],
 "metadata": {
  "kernelspec": {
   "display_name": "nidl",
   "language": "python",
   "name": "python3"
  },
  "language_info": {
   "codemirror_mode": {
    "name": "ipython",
    "version": 3
   },
   "file_extension": ".py",
   "mimetype": "text/x-python",
   "name": "python",
   "nbconvert_exporter": "python",
   "pygments_lexer": "ipython3",
   "version": "3.10.18"
  }
 },
 "nbformat": 4,
 "nbformat_minor": 2
}
